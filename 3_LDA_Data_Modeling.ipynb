{
 "cells": [
  {
   "cell_type": "markdown",
   "metadata": {},
   "source": [
    "### LDA modeling"
   ]
  },
  {
   "cell_type": "code",
   "execution_count": null,
   "metadata": {},
   "outputs": [],
   "source": [
    "from gensim import corpora, models"
   ]
  },
  {
   "cell_type": "markdown",
   "metadata": {},
   "source": [
    "#### Create the dictionary for documents"
   ]
  },
  {
   "cell_type": "markdown",
   "metadata": {},
   "source": [
    "The 'Dictionary()' fucntion answers the question -- how many times does a specific word appear in the document? \n",
    "The function would assign a unique integer id to all words appearing in the corpus. "
   ]
  },
  {
   "cell_type": "code",
   "execution_count": null,
   "metadata": {},
   "outputs": [],
   "source": [
    "dictionary_train_1 = corpora.Dictionary([documents_train_filter[0]])\n",
    "dictionary_train_2 = corpora.Dictionary([documents_train_filter[1]])\n",
    "dictionary_train_3 = corpora.Dictionary([documents_train_filter[2]])\n",
    "dictionary_train_4 = corpora.Dictionary([documents_train_filter[3]])\n",
    "dictionary_train_5 = corpora.Dictionary([documents_train_filter[4]])"
   ]
  },
  {
   "cell_type": "markdown",
   "metadata": {},
   "source": [
    "#### Convert tokenized documents to vectors"
   ]
  },
  {
   "cell_type": "markdown",
   "metadata": {},
   "source": [
    "The 'doc2bow()' function counts the number of occurrences of each distinct word, converts the word to its integer word id and returns the result as a sparse vector."
   ]
  },
  {
   "cell_type": "code",
   "execution_count": null,
   "metadata": {},
   "outputs": [],
   "source": [
    "bow_corpus_train_1 = [dictionary_train_1.doc2bow(doc) for doc in [documents_train_filter[0]]]\n",
    "bow_corpus_train_2 = [dictionary_train_2.doc2bow(doc) for doc in [documents_train_filter[1]]]\n",
    "bow_corpus_train_3 = [dictionary_train_3.doc2bow(doc) for doc in [documents_train_filter[2]]]\n",
    "bow_corpus_train_4 = [dictionary_train_4.doc2bow(doc) for doc in [documents_train_filter[3]]]\n",
    "bow_corpus_train_5 = [dictionary_train_5.doc2bow(doc) for doc in [documents_train_filter[4]]]"
   ]
  },
  {
   "cell_type": "markdown",
   "metadata": {},
   "source": [
    "#### Train the LDA model"
   ]
  },
  {
   "cell_type": "markdown",
   "metadata": {},
   "source": [
    "id2word: The model requires the previous dictionary to map ids to strings.\n",
    "passes: The number of laps the model will take through corpus. The greater the number of passes, the more accurate the model will be."
   ]
  },
  {
   "cell_type": "code",
   "execution_count": null,
   "metadata": {},
   "outputs": [],
   "source": [
    "from gensim.models import LdaModel"
   ]
  },
  {
   "cell_type": "code",
   "execution_count": null,
   "metadata": {},
   "outputs": [],
   "source": [
    "lda_model_1 = LdaModel(bow_corpus_train_1, num_topics=3, id2word=dictionary_train_1, passes=1)\n",
    "lda_model_2 = LdaModel(bow_corpus_train_2, num_topics=3, id2word=dictionary_train_2, passes=1)\n",
    "lda_model_3 = LdaModel(bow_corpus_train_3, num_topics=3, id2word=dictionary_train_3, passes=1)\n",
    "lda_model_4 = LdaModel(bow_corpus_train_4, num_topics=3, id2word=dictionary_train_4, passes=1)\n",
    "lda_model_5 = LdaModel(bow_corpus_train_5, num_topics=3, id2word=dictionary_train_5, passes=1)"
   ]
  },
  {
   "cell_type": "markdown",
   "metadata": {},
   "source": [
    "#### Print the topics within each model"
   ]
  },
  {
   "cell_type": "code",
   "execution_count": null,
   "metadata": {},
   "outputs": [],
   "source": [
    "for idx, topic in lda_model_1.print_topics(-1):\n",
    "    print('Topic: {} \\nWords: {}'.format(idx, topic))"
   ]
  },
  {
   "cell_type": "code",
   "execution_count": null,
   "metadata": {},
   "outputs": [],
   "source": [
    "for idx, topic in lda_model_2.print_topics(-1):\n",
    "    print('Topic: {} \\nWords: {}'.format(idx, topic))"
   ]
  },
  {
   "cell_type": "code",
   "execution_count": null,
   "metadata": {},
   "outputs": [],
   "source": [
    "for idx, topic in lda_model_3.print_topics(-1):\n",
    "    print('Topic: {} \\nWords: {}'.format(idx, topic))"
   ]
  },
  {
   "cell_type": "code",
   "execution_count": null,
   "metadata": {},
   "outputs": [],
   "source": [
    "for idx, topic in lda_model_4.print_topics(-1):\n",
    "    print('Topic: {} \\nWords: {}'.format(idx, topic))"
   ]
  },
  {
   "cell_type": "code",
   "execution_count": null,
   "metadata": {},
   "outputs": [],
   "source": [
    "for idx, topic in lda_model_5.print_topics(-1):\n",
    "    print('Topic: {} \\nWords: {}'.format(idx, topic))"
   ]
  },
  {
   "cell_type": "markdown",
   "metadata": {},
   "source": [
    "#### Test the model using reviews from 2015"
   ]
  },
  {
   "cell_type": "code",
   "execution_count": null,
   "metadata": {},
   "outputs": [],
   "source": [
    "bow_vector_1 = dictionary_train_1.doc2bow(documents_test_filter[0])\n",
    "bow_vector_2 = dictionary_train_2.doc2bow(documents_test_filter[4])\n",
    "bow_vector_3 = dictionary_train_3.doc2bow(documents_test_filter[1])\n",
    "bow_vector_4 = dictionary_train_4.doc2bow(documents_test_filter[3])\n",
    "bow_vector_5 = dictionary_train_5.doc2bow(documents_test_filter[2])"
   ]
  },
  {
   "cell_type": "code",
   "execution_count": null,
   "metadata": {},
   "outputs": [],
   "source": [
    "for index, score in sorted(lda_model_1[bow_vector_1], key=lambda tup: -1*tup[1]):\n",
    "    print(\"Score: {}\\t Topic: {}\".format(score, lda_model_1.print_topic(index, 5)))"
   ]
  },
  {
   "cell_type": "code",
   "execution_count": null,
   "metadata": {},
   "outputs": [],
   "source": [
    "for index, score in sorted(lda_model_2[bow_vector_2], key=lambda tup: -1*tup[1]):\n",
    "    print(\"Score: {}\\t Topic: {}\".format(score, lda_model_2.print_topic(index, 5)))"
   ]
  },
  {
   "cell_type": "code",
   "execution_count": null,
   "metadata": {},
   "outputs": [],
   "source": [
    "for index, score in sorted(lda_model_3[bow_vector_3], key=lambda tup: -1*tup[1]):\n",
    "    print(\"Score: {}\\t Topic: {}\".format(score, lda_model_3.print_topic(index, 5)))"
   ]
  },
  {
   "cell_type": "code",
   "execution_count": null,
   "metadata": {},
   "outputs": [],
   "source": [
    "for index, score in sorted(lda_model_4[bow_vector_4], key=lambda tup: -1*tup[1]):\n",
    "    print(\"Score: {}\\t Topic: {}\".format(score, lda_model_4.print_topic(index, 5)))"
   ]
  },
  {
   "cell_type": "code",
   "execution_count": null,
   "metadata": {},
   "outputs": [],
   "source": [
    "for index, score in sorted(lda_model_5[bow_vector_5], key=lambda tup: -1*tup[1]):\n",
    "    print(\"Score: {}\\t Topic: {}\".format(score, lda_model_5.print_topic(index, 5)))"
   ]
  }
 ],
 "metadata": {
  "kernelspec": {
   "display_name": "PySpark3",
   "language": "",
   "name": "pyspark3kernel"
  },
  "language_info": {
   "codemirror_mode": {
    "name": "python",
    "version": 3
   },
   "mimetype": "text/x-python",
   "name": "pyspark3",
   "pygments_lexer": "python3"
  }
 },
 "nbformat": 4,
 "nbformat_minor": 2
}
